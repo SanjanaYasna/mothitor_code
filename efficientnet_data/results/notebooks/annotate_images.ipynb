{
 "cells": [
  {
   "cell_type": "code",
   "execution_count": 1,
   "metadata": {},
   "outputs": [],
   "source": [
    "import pandas as pd\n",
    "import numpy as np\n",
    "import os\n",
    "from PIL import Image"
   ]
  },
  {
   "cell_type": "code",
   "execution_count": 2,
   "metadata": {},
   "outputs": [
    {
     "name": "stderr",
     "output_type": "stream",
     "text": [
      "/home/syasna_smith_edu/.conda/envs/mothitor/lib/python3.12/site-packages/tqdm/auto.py:21: TqdmWarning: IProgress not found. Please update jupyter and ipywidgets. See https://ipywidgets.readthedocs.io/en/stable/user_install.html\n",
      "  from .autonotebook import tqdm as notebook_tqdm\n"
     ]
    }
   ],
   "source": [
    "import random\n",
    "from dataclasses import dataclass\n",
    "from typing import Any, List, Dict, Optional, Union\n",
    "\n",
    "import cv2\n",
    "import torch\n",
    "import numpy as np\n",
    "from PIL import Image\n",
    "import plotly.express as px\n",
    "import matplotlib.pyplot as plt\n",
    "import plotly.graph_objects as go\n",
    "from transformers import  pipeline   "
   ]
  },
  {
   "cell_type": "code",
   "execution_count": null,
   "metadata": {},
   "outputs": [],
   "source": [
    "df = pd.read_csv(\"/work/pi_mrobson_smith_edu/mothitor/code_main/efficientnet_data/reshape_pass_5/detections.csv\")"
   ]
  },
  {
   "cell_type": "code",
   "execution_count": null,
   "metadata": {},
   "outputs": [],
   "source": [
    "#read the first 100 unique image_name rows\n",
    "first_100 = df['image_name'].unique()[:100]\n",
    "# Create a new DataFrame with the first 100 unique image_name rows\n",
    "df_first_100 = df[df['image_name'].isin(first_100)]"
   ]
  },
  {
   "cell_type": "code",
   "execution_count": 17,
   "metadata": {},
   "outputs": [],
   "source": [
    "#take the detection results -> return annoated image \n",
    "def annotate(image, annotations_df) -> np.ndarray:\n",
    "    # Convert PIL Image to OpenCV format\n",
    "    image_cv2 = Image.open(image).convert(\"RGB\")\n",
    "    image_cv2 = np.array(image_cv2)\n",
    "   # image_cv2 = np.array(image) if isinstance(image, Image.Image) else image\n",
    "   # image_cv2 = cv2.cvtColor(image_cv2, cv2.COLOR_RGB2BGR)\n",
    "\n",
    "    # Iterate over detections and add bounding boxes from annoations_df\n",
    "    for index, row in annotations_df.iterrows():\n",
    "        label = row['label']\n",
    "        score = row['detection_score']\n",
    "        xmin = row['xmin']\n",
    "        ymin = row['ymin']\n",
    "        xmax = row['xmax']\n",
    "        ymax = row['ymax']\n",
    "        # Sample a random color for each detection\n",
    "        color = np.random.randint(0, 256, size=3)\n",
    "\n",
    "        # Draw bounding box\n",
    "        cv2.rectangle(image_cv2, (xmin, ymin), (xmax, ymax), color.tolist(), 2)\n",
    "        cv2.putText(image_cv2, f'{label}: {score:.2f}', (xmin, ymin - 10), cv2.FONT_HERSHEY_SIMPLEX, 0.5, color.tolist(), 2)\n",
    "    return cv2.cvtColor(image_cv2, cv2.COLOR_BGR2RGB)"
   ]
  },
  {
   "cell_type": "code",
   "execution_count": null,
   "metadata": {},
   "outputs": [],
   "source": [
    "for index, row in df.iterrows():\n",
    "    image_path = row['image_name']\n",
    "    image_path = os.path.join(\"/work/pi_mrobson_smith_edu/mothitor/data/Mothitor4.0Pics\", image_path)\n",
    "    df_sub = df[df['image_name'] == row['image_name']]\n",
    "    image = annotate(image_path, df_sub)"
   ]
  }
 ],
 "metadata": {
  "kernelspec": {
   "display_name": "Python 3",
   "language": "python",
   "name": "python3"
  },
  "language_info": {
   "codemirror_mode": {
    "name": "ipython",
    "version": 3
   },
   "file_extension": ".py",
   "mimetype": "text/x-python",
   "name": "python",
   "nbconvert_exporter": "python",
   "pygments_lexer": "ipython3",
   "version": "3.12.9"
  },
  "orig_nbformat": 4
 },
 "nbformat": 4,
 "nbformat_minor": 2
}
